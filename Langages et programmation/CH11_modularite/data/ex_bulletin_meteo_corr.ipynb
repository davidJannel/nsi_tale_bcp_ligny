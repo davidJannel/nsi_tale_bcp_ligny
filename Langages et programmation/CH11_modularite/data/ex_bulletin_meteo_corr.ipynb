{
 "cells": [
  {
   "cell_type": "markdown",
   "metadata": {},
   "source": [
    "<div style='background-color: #e3a8b6;\n",
    "    border: 0.5em solid black;\n",
    "    border-radius: 0.5em;\n",
    "    padding: 1em;'>\n",
    "    <h2>Exercice</h2>\n",
    "    <h1>Bulletin météo</h1>\n",
    "</div>"
   ]
  },
  {
   "cell_type": "markdown",
   "metadata": {},
   "source": [
    "L'API [_OpenWeatherMap_](https://openweathermap.org/current) permet de récupérer les données météorologiques d'un lieu donné.\n",
    "\n",
    "Contrairement à l'API *Base Adresse Nationale*, l'utilisation de cette API nécessite de disposer d'une **clé d'API**, qui permet d'identifier le programme consommateur et éventuellement de limiter le nombre de requêtes autorisées.\n",
    "\n",
    "Vous pouvez vous inscrire [ici](https://openweathermap.org/price) pour obtenir une clé gratuite personnelle ou bien utiliser la clé figurant sur le cahier."
   ]
  },
  {
   "cell_type": "code",
   "execution_count": 9,
   "metadata": {},
   "outputs": [],
   "source": [
    "CLE_API = '2914fc41f32e9904343814562486e9a3'\n",
    "# Cette clé d'API permet de réaliser un maximum de 60 requêtes par minute et 1 000 000 par mois."
   ]
  },
  {
   "cell_type": "markdown",
   "metadata": {},
   "source": [
    "Pour connaître le temps qu'il fait actuellement à Lille, on interroge l'API en envoyant une requête GET à l'URL [http://api.openweathermap.org/data/2.5/weather?q=Lille,FR&units=metric&appid=2914fc41f32e9904343814562486e9a3](http://api.openweathermap.org/data/2.5/weather?q=Lille,FR&units=metric&appid=2914fc41f32e9904343814562486e9a3).\n",
    "\n",
    "⚠️ La fin de l'URL doit être remplacée par une clé d'API (après `&appid=`).\n",
    "\n",
    "**(1)** 💻 Définir une fonction `interroger_API_OpenWeatherMap` qui prend en paramètre d'entrée une chaîne de caractères correspondant à un nom de lieu et qui renvoie sous forme de dictionnaire la réponse de l'API."
   ]
  },
  {
   "cell_type": "code",
   "execution_count": 10,
   "metadata": {},
   "outputs": [],
   "source": [
    "import requests"
   ]
  },
  {
   "cell_type": "code",
   "execution_count": 11,
   "metadata": {},
   "outputs": [],
   "source": [
    "def interroger_API_OpenWeatherMap(lieu):\n",
    "    \"\"\"\n",
    "    Interroge l'API OpenWeatherMap.\n",
    "    - Entrée : lieu (chaîne de caractères)\n",
    "    - Sortie : reponse (dictionnaire contenant l'ensemble des données renvoyées par l'API)\n",
    "    Attention, penser à importer le module requests !\n",
    "    \"\"\"\n",
    "    url = f\"http://api.openweathermap.org/data/2.5/weather?q={lieu}&appid={CLE_API}&units=metric\"\n",
    "    reponse = requests.get(url)\n",
    "    reponse = reponse.json()\n",
    "    return reponse"
   ]
  },
  {
   "cell_type": "code",
   "execution_count": 12,
   "metadata": {},
   "outputs": [
    {
     "data": {
      "text/plain": [
       "{'cod': 401,\n",
       " 'message': 'Invalid API key. Please see http://openweathermap.org/faq#error401 for more info.'}"
      ]
     },
     "execution_count": 12,
     "metadata": {},
     "output_type": "execute_result"
    }
   ],
   "source": [
    "interroger_API_OpenWeatherMap('Lille, FR')"
   ]
  },
  {
   "cell_type": "markdown",
   "metadata": {},
   "source": [
    "**(2)** 💻 Définir une fonction `meteo` qui prend en entrée une chaîne de caractères correspondant à un nom de lieu et qui renvoie, sous forme de dictionnaire, le temps qu'il fait en ce lieu, la température (en °C), la pression atmosphérique (en hPa) et le taux d'humidité (en %)."
   ]
  },
  {
   "cell_type": "code",
   "execution_count": 17,
   "metadata": {},
   "outputs": [],
   "source": [
    "def meteo(lieu):\n",
    "    \"\"\"\n",
    "    Détermine la météo d'un lieu grâce à l'API OpenWeatherMap.\n",
    "    - Entrée : lieu (chaîne de caractères)\n",
    "    - Sortie : dico (dictionnaire dont les clés sont 'temps', 'température', 'pression' et 'humidité')\n",
    "    Attention, penser à importer le module requests !\n",
    "    \"\"\"\n",
    "    reponse = interroger_API_OpenWeatherMap(lieu)\n",
    "    temps = reponse['weather'][0]['main']\n",
    "    temperature = reponse['main']['temp']\n",
    "    pression = reponse['main']['pressure']\n",
    "    humidite = reponse['main']['humidity']\n",
    "    dico = {'temps': temps, 'température': temperature, 'pression': pression, 'humidité': humidite}\n",
    "    return dico"
   ]
  },
  {
   "cell_type": "markdown",
   "metadata": {},
   "source": [
    "**(3)** ✏️ 💻 Tester la fonction `meteo` sur trois lieux au choix."
   ]
  },
  {
   "cell_type": "code",
   "execution_count": 22,
   "metadata": {},
   "outputs": [
    {
     "data": {
      "text/plain": [
       "{'temps': 'Rain', 'température': 19.95, 'pression': 1018, 'humidité': 85}"
      ]
     },
     "execution_count": 22,
     "metadata": {},
     "output_type": "execute_result"
    }
   ],
   "source": [
    "meteo('Bruxelles, BE')"
   ]
  },
  {
   "cell_type": "code",
   "execution_count": 23,
   "metadata": {},
   "outputs": [
    {
     "data": {
      "text/plain": [
       "{'temps': 'Clear', 'température': 34.4, 'pression': 1014, 'humidité': 39}"
      ]
     },
     "execution_count": 23,
     "metadata": {},
     "output_type": "execute_result"
    }
   ],
   "source": [
    "meteo('Athènes, GR')"
   ]
  },
  {
   "cell_type": "code",
   "execution_count": 27,
   "metadata": {},
   "outputs": [
    {
     "data": {
      "text/plain": [
       "{'temps': 'Clouds', 'température': 19.53, 'pression': 1011, 'humidité': 65}"
      ]
     },
     "execution_count": 27,
     "metadata": {},
     "output_type": "execute_result"
    }
   ],
   "source": [
    "meteo('Stockholm, SE')"
   ]
  }
 ],
 "metadata": {
  "kernelspec": {
   "display_name": "Python 3",
   "language": "python",
   "name": "python3"
  },
  "language_info": {
   "codemirror_mode": {
    "name": "ipython",
    "version": 3
   },
   "file_extension": ".py",
   "mimetype": "text/x-python",
   "name": "python",
   "nbconvert_exporter": "python",
   "pygments_lexer": "ipython3",
   "version": "3.7.3"
  },
  "latex_envs": {
   "LaTeX_envs_menu_present": true,
   "autoclose": false,
   "autocomplete": true,
   "bibliofile": "biblio.bib",
   "cite_by": "apalike",
   "current_citInitial": 1,
   "eqLabelWithNumbers": true,
   "eqNumInitial": 1,
   "hotkeys": {
    "equation": "Ctrl-E",
    "itemize": "Ctrl-I"
   },
   "labels_anchors": false,
   "latex_user_defs": false,
   "report_style_numbering": false,
   "user_envs_cfg": false
  }
 },
 "nbformat": 4,
 "nbformat_minor": 2
}
